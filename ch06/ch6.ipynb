{
 "cells": [
  {
   "cell_type": "markdown",
   "id": "3a6ad4a5",
   "metadata": {},
   "source": [
    "# Ch6函式與遞迴\n",
    "## 6-1　函式\n",
    "### 6-1-1　函式的定義、傳回值與呼叫"
   ]
  },
  {
   "cell_type": "markdown",
   "id": "d1da7b0b",
   "metadata": {},
   "source": [
    "### (6-1-1-func1.py)"
   ]
  },
  {
   "cell_type": "code",
   "execution_count": 1,
   "id": "d1f4b616",
   "metadata": {},
   "outputs": [
    {
     "name": "stdout",
     "output_type": "stream",
     "text": [
      "hi\n",
      "2\n"
     ]
    }
   ],
   "source": [
    "def hi():\n",
    "    print('hi')\n",
    "hi()\n",
    "def min(a,b):\n",
    "    if a > b:\n",
    "        return b\n",
    "    else:\n",
    "        return a\n",
    "print(min(2,4))"
   ]
  },
  {
   "cell_type": "markdown",
   "id": "7d38316b",
   "metadata": {},
   "source": [
    "### (6-1-1-rec.py)"
   ]
  },
  {
   "cell_type": "code",
   "execution_count": 2,
   "id": "e44b13ed",
   "metadata": {},
   "outputs": [
    {
     "name": "stdout",
     "output_type": "stream",
     "text": [
      "請輸入長度？2\n",
      "請輸入寬度？3\n",
      "長方形面積為 6\n"
     ]
    }
   ],
   "source": [
    "def area(x,y):\n",
    "    return x*y\n",
    "a = int(input('請輸入長度？'))\n",
    "b = int(input('請輸入寬度？'))\n",
    "ans = area(a, b)\n",
    "print('長方形面積為', ans)"
   ]
  },
  {
   "cell_type": "markdown",
   "id": "3affbd76",
   "metadata": {},
   "source": [
    "### 6-1-2　函式與變數的作用範圍\n",
    "### (6-1-2a-func2.py)"
   ]
  },
  {
   "cell_type": "code",
   "execution_count": 6,
   "id": "cd614fb1",
   "metadata": {},
   "outputs": [
    {
     "name": "stdout",
     "output_type": "stream",
     "text": [
      "5\n",
      "10\n",
      "5\n"
     ]
    }
   ],
   "source": [
    "g = 5\n",
    "def f1():\n",
    "    print(g)\n",
    "f1()\n",
    "def f2():\n",
    "    #print(g)\n",
    "    g = 10\n",
    "    print(g)\n",
    "f2()\n",
    "print(g)"
   ]
  },
  {
   "cell_type": "markdown",
   "id": "a62f54fa",
   "metadata": {},
   "source": [
    "### (6-1-2b-func3.py)"
   ]
  },
  {
   "cell_type": "code",
   "execution_count": 4,
   "id": "f02e2a36",
   "metadata": {},
   "outputs": [
    {
     "name": "stdout",
     "output_type": "stream",
     "text": [
      "5\n",
      "10\n",
      "10\n"
     ]
    }
   ],
   "source": [
    "g = 5\n",
    "def f():\n",
    "    global g\n",
    "    print(g)\n",
    "    g = 10\n",
    "    print(g)\n",
    "f()\n",
    "print(g)"
   ]
  },
  {
   "cell_type": "markdown",
   "id": "bce85875",
   "metadata": {},
   "source": [
    "## 6-2　函式範例練習\n",
    "### (6-2-1-BMI.py) 範例6-2-1 計算BMI"
   ]
  },
  {
   "cell_type": "code",
   "execution_count": 7,
   "id": "ae1aeaf8",
   "metadata": {},
   "outputs": [
    {
     "name": "stdout",
     "output_type": "stream",
     "text": [
      "請輸入體重(KG)？80\n",
      "請輸入身高(M)？1.68\n",
      "BMI為 28.344671201814062\n",
      "體重肥胖\n"
     ]
    }
   ],
   "source": [
    "def BMI(w, h):\n",
    "    return w/(h*h)\n",
    "w = float(input('請輸入體重(KG)？'))\n",
    "h = float(input('請輸入身高(M)？'))\n",
    "bmi = BMI(w, h)\n",
    "print('BMI為', bmi)\n",
    "if (bmi < 18):\n",
    "    print('體重過輕')\n",
    "elif (bmi < 24):\n",
    "    print('體重正常')\n",
    "elif (bmi < 27):\n",
    "    print('體重過重')\n",
    "else:\n",
    "    print('體重肥胖')"
   ]
  },
  {
   "cell_type": "markdown",
   "id": "bfbf13b4",
   "metadata": {},
   "source": [
    "## 6-3　函式的輸入與輸出\n",
    "### 6-3-1　函式的輸入\n",
    "### (6-3-1-func4.py)"
   ]
  },
  {
   "cell_type": "code",
   "execution_count": 8,
   "id": "02d3a620",
   "metadata": {},
   "outputs": [
    {
     "name": "stdout",
     "output_type": "stream",
     "text": [
      "Hi\n",
      "HiHiHi\n"
     ]
    }
   ],
   "source": [
    "def f(s, count=1):\n",
    "    print(s * count)\n",
    "f('Hi')\n",
    "f('Hi',3)"
   ]
  },
  {
   "cell_type": "markdown",
   "id": "83d472d6",
   "metadata": {},
   "source": [
    "### (6-3-1-func5.py)"
   ]
  },
  {
   "cell_type": "code",
   "execution_count": 9,
   "id": "3c7e682a",
   "metadata": {},
   "outputs": [
    {
     "name": "stdout",
     "output_type": "stream",
     "text": [
      "x= 1 y= 2 z= 9\n",
      "x= 1 y= 2 z= 3\n",
      "x= 3 y= 4 z= 9\n",
      "x= 6 y= 5 z= 9\n"
     ]
    }
   ],
   "source": [
    "def func(x, y, z=9):\n",
    "    print(\"x=\" , x , \"y=\" , y , \"z=\" , z)\n",
    "func(1, 2)\n",
    "func(1, 2, 3)\n",
    "func(x=3, y=4)\n",
    "func(y=5, x=6)\n",
    "#func(x=3, z=6)"
   ]
  },
  {
   "cell_type": "markdown",
   "id": "0dc6e6b2",
   "metadata": {},
   "source": [
    "### 6-3-2　函式的回傳值\n",
    "### (6-3-2-func6.py)"
   ]
  },
  {
   "cell_type": "code",
   "execution_count": 10,
   "id": "5055869c",
   "metadata": {},
   "outputs": [
    {
     "name": "stdout",
     "output_type": "stream",
     "text": [
      "2022 1 16\n"
     ]
    }
   ],
   "source": [
    "from datetime import datetime\n",
    "def ymd():\n",
    "    now = datetime.now()\n",
    "    return (now.year, now.month, now.day)\n",
    "y, m, d = ymd()\n",
    "print(y,m,d)"
   ]
  },
  {
   "cell_type": "markdown",
   "id": "b4a79389",
   "metadata": {},
   "source": [
    "### 6-3-3　函式的進階輸入 — 位置引數與關鍵字引數\n",
    "### (6-3-3-func7.py)"
   ]
  },
  {
   "cell_type": "code",
   "execution_count": 11,
   "id": "36cc58fa",
   "metadata": {},
   "outputs": [
    {
     "name": "stdout",
     "output_type": "stream",
     "text": [
      "位置引數為 (1, 2, 3)\n",
      "關鍵字引數為 {'a': 1, 'b': 2}\n",
      "start= 1\n",
      "位置引數為 (2, 3)\n",
      "關鍵字引數為 {'a': 4, 'b': 5}\n"
     ]
    }
   ],
   "source": [
    "def func1(*args):\n",
    "    print('位置引數為', args)\n",
    "func1(1, 2, 3)\n",
    "def func2(**kwargs):\n",
    "    print('關鍵字引數為', kwargs)\n",
    "func2(a=1, b=2)\n",
    "def func3(start, *args, **kwargs):\n",
    "    print(\"start=\", start)\n",
    "    print(\"位置引數為\", args)\n",
    "    print(\"關鍵字引數為\", kwargs)\n",
    "func3(1, 2, 3, a=4, b=5)"
   ]
  },
  {
   "cell_type": "markdown",
   "id": "75f25b94",
   "metadata": {},
   "source": [
    "## 6-4　函式的說明文件\n",
    "### (6-4-func8.py)"
   ]
  },
  {
   "cell_type": "code",
   "execution_count": 12,
   "id": "70ecf44f",
   "metadata": {},
   "outputs": [
    {
     "name": "stdout",
     "output_type": "stream",
     "text": [
      "Help on function min in module __main__:\n",
      "\n",
      "min(a, b)\n",
      "    使用min可以找出a與b較小的值\n",
      "    Args:\n",
      "        a: 輸入的第一個參數\n",
      "        b: 輸入的第二個參數\n",
      "    \n",
      "    Returns:\n",
      "       回傳a與b中較小的值\n",
      "\n",
      " 使用min可以找出a與b較小的值\n",
      "    Args:\n",
      "        a: 輸入的第一個參數\n",
      "        b: 輸入的第二個參數\n",
      "\n",
      "    Returns:\n",
      "       回傳a與b中較小的值\n",
      "    \n"
     ]
    }
   ],
   "source": [
    "def min(a, b):\n",
    "    ''' 使用min可以找出a與b較小的值\n",
    "    Args:\n",
    "        a: 輸入的第一個參數\n",
    "        b: 輸入的第二個參數\n",
    "\n",
    "    Returns:\n",
    "       回傳a與b中較小的值\n",
    "    '''\n",
    "    if a > b:\n",
    "        return b\n",
    "    else:\n",
    "        return a\n",
    "help(min)\n",
    "print(min.__doc__)"
   ]
  },
  {
   "cell_type": "markdown",
   "id": "32607c15",
   "metadata": {},
   "source": [
    "## 6-5　函式視為物件\n",
    "### (6-5-func9.py)"
   ]
  },
  {
   "cell_type": "code",
   "execution_count": 13,
   "id": "6922824a",
   "metadata": {},
   "outputs": [
    {
     "name": "stdout",
     "output_type": "stream",
     "text": [
      "k= 30\n"
     ]
    }
   ],
   "source": [
    "def add(a, b):\n",
    "    return a + b\n",
    "def run(func, x, y):\n",
    "    return func(x, y)\n",
    "k = run(add, 10, 20)\n",
    "print('k=', k)"
   ]
  },
  {
   "cell_type": "markdown",
   "id": "38d8eccb",
   "metadata": {},
   "source": [
    "## 6-6　函式lambda\n",
    "### (6-6-func10.py)"
   ]
  },
  {
   "cell_type": "code",
   "execution_count": 14,
   "id": "999911af",
   "metadata": {},
   "outputs": [
    {
     "name": "stdout",
     "output_type": "stream",
     "text": [
      "k= 30\n"
     ]
    }
   ],
   "source": [
    "def run(func, x, y):\n",
    "    return func(x, y)\n",
    "k = run(lambda a,b: a+b, 10, 20)\n",
    "print('k=', k)"
   ]
  },
  {
   "cell_type": "markdown",
   "id": "a9eaaeee",
   "metadata": {},
   "source": [
    "## 6-7　產生器(generator)\n",
    "### (6-7-func11.py)"
   ]
  },
  {
   "cell_type": "code",
   "execution_count": 16,
   "id": "28c98c5b",
   "metadata": {},
   "outputs": [
    {
     "name": "stdout",
     "output_type": "stream",
     "text": [
      "<generator object irange at 0x000001D14A2C39E0>\n",
      "1\n",
      "2\n",
      "3\n",
      "4\n",
      "4\n",
      "3\n",
      "2\n"
     ]
    }
   ],
   "source": [
    "def irange(start, stop, step=1):\n",
    "    if start < stop:\n",
    "        i = start\n",
    "        while i < stop:\n",
    "            yield i\n",
    "            i = i + step\n",
    "    else:\n",
    "        i = start\n",
    "        while i > stop:\n",
    "            yield i\n",
    "            i = i + step\n",
    "x = irange(1,10)\n",
    "print(x)\n",
    "for i in irange(1, 5, 1):\n",
    "    print(i)\n",
    "for i in irange(4, 1, -1):\n",
    "    print(i)"
   ]
  },
  {
   "cell_type": "markdown",
   "id": "ed886710",
   "metadata": {},
   "source": [
    "## 6-8　內部函式\n",
    "### (6-8-func12.py)"
   ]
  },
  {
   "cell_type": "code",
   "execution_count": 15,
   "id": "691907ca",
   "metadata": {},
   "outputs": [
    {
     "name": "stdout",
     "output_type": "stream",
     "text": [
      "Hello,John\n",
      "Hello,你好\n"
     ]
    }
   ],
   "source": [
    "def hello(msg):\n",
    "    def say(text):\n",
    "        return 'Hello,'+text\n",
    "    print(say(msg))\n",
    "    print(say('你好'))\n",
    "hello('John')"
   ]
  },
  {
   "cell_type": "markdown",
   "id": "3e7f5bf7",
   "metadata": {},
   "source": [
    "## 6-9　closure 函式\n",
    "### (6-9-func13.py)"
   ]
  },
  {
   "cell_type": "code",
   "execution_count": 17,
   "id": "ba34921e",
   "metadata": {},
   "outputs": [
    {
     "name": "stdout",
     "output_type": "stream",
     "text": [
      "Hello,Claire\n",
      "Hi,Fiona\n"
     ]
    }
   ],
   "source": [
    "def hello(msg):\n",
    "    def say(hi):\n",
    "        return hi+msg\n",
    "    return say\n",
    "x=hello('Claire')\n",
    "y=hello('Fiona')\n",
    "print(x('Hello,'))\n",
    "print(y('Hi,'))"
   ]
  },
  {
   "cell_type": "markdown",
   "id": "f5b37fb6",
   "metadata": {},
   "source": [
    "## 6-10　Decorator( 裝飾器)\n",
    "### (6-10-func14.py)"
   ]
  },
  {
   "cell_type": "code",
   "execution_count": 18,
   "id": "836dda58",
   "metadata": {},
   "outputs": [
    {
     "name": "stdout",
     "output_type": "stream",
     "text": [
      "正在執行函式 add\n",
      "函式的說明文件為 回傳a加b的結果\n",
      "位置引數 (1,)\n",
      "關鍵引數 {'b': 2}\n",
      "3\n",
      "正在執行函式 add\n",
      "函式的說明文件為 回傳a+b+c的結果\n",
      "位置引數 (1, 2)\n",
      "關鍵引數 {'c': 3}\n",
      "6\n"
     ]
    }
   ],
   "source": [
    "def debug(func1):\n",
    "    def func2(*args, **kwargs):\n",
    "        print('正在執行函式', func1.__name__)\n",
    "        print('函式的說明文件為', func1.__doc__)\n",
    "        print('位置引數', args)\n",
    "        print('關鍵引數', kwargs)\n",
    "        return func1(*args, **kwargs)\n",
    "    return func2\n",
    "def add(a, b):\n",
    "    '回傳a加b的結果'\n",
    "    return a+b\n",
    "add = debug(add)\n",
    "print(add(1, b=2))\n",
    "@debug\n",
    "def add(a, b, c):\n",
    "    '回傳a+b+c的結果'\n",
    "    return a+b+c\n",
    "print(add(1, 2, c=3))"
   ]
  },
  {
   "cell_type": "markdown",
   "id": "4f748523",
   "metadata": {},
   "source": [
    "## 6-11　遞迴\n",
    "### (6-11-1-fac.py)  範例6-11-1 求n 階乘"
   ]
  },
  {
   "cell_type": "code",
   "execution_count": 19,
   "id": "5a8c7d25",
   "metadata": {},
   "outputs": [
    {
     "name": "stdout",
     "output_type": "stream",
     "text": [
      "請輸入n值？10\n",
      "10!為3628800\n"
     ]
    }
   ],
   "source": [
    "def fac(num):\n",
    "    if num == 1:\n",
    "        return 1\n",
    "    else:\n",
    "        return num*fac(num-1)\n",
    "n = int(input('請輸入n值？'))\n",
    "ans = fac(n)\n",
    "print(n,'!為',ans,sep='')"
   ]
  },
  {
   "cell_type": "markdown",
   "id": "c03bb5df",
   "metadata": {},
   "source": [
    "### (6-11-2-gcd.py)  範例6-11-2 求最大公因數"
   ]
  },
  {
   "cell_type": "code",
   "execution_count": 21,
   "id": "8b15f715",
   "metadata": {},
   "outputs": [
    {
     "name": "stdout",
     "output_type": "stream",
     "text": [
      "請輸入m值？20\n",
      "請輸入n值？15\n",
      "20與15的最大公因數相當於15與20的最大公因數\n",
      "15與20的最大公因數相當於5與15的最大公因數\n",
      "5與15的最大公因數相當於0與5的最大公因數\n",
      "20與15的最大公因數為5\n"
     ]
    }
   ],
   "source": [
    "def gcd(m, n):\n",
    "    if m == 0:\n",
    "        return n\n",
    "    else:\n",
    "        print(m, '與', n, '的最大公因數相當於', n % m, '與', m, '的最大公因數', sep='')\n",
    "        return gcd(n % m, m)\n",
    "m = int(input('請輸入m值？'))\n",
    "n = int(input('請輸入n值？'))\n",
    "ans = gcd(m, n)\n",
    "print(m, '與', n, '的最大公因數為', ans, sep='')"
   ]
  },
  {
   "cell_type": "code",
   "execution_count": null,
   "id": "ffd6cb7c",
   "metadata": {},
   "outputs": [],
   "source": []
  }
 ],
 "metadata": {
  "kernelspec": {
   "display_name": "Python 3 (ipykernel)",
   "language": "python",
   "name": "python3"
  },
  "language_info": {
   "codemirror_mode": {
    "name": "ipython",
    "version": 3
   },
   "file_extension": ".py",
   "mimetype": "text/x-python",
   "name": "python",
   "nbconvert_exporter": "python",
   "pygments_lexer": "ipython3",
   "version": "3.9.7"
  }
 },
 "nbformat": 4,
 "nbformat_minor": 5
}
