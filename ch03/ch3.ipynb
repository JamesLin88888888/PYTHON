{
 "cells": [
  {
   "cell_type": "markdown",
   "id": "53c2a20c",
   "metadata": {},
   "source": [
    "# 資料儲存容器tuple- 串列 - 字典 -集合"
   ]
  },
  {
   "cell_type": "markdown",
   "id": "92ade161",
   "metadata": {},
   "source": [
    "## 3-1 tuple(3-1-tuple1.py)"
   ]
  },
  {
   "cell_type": "code",
   "execution_count": 37,
   "id": "4fea2a9f",
   "metadata": {},
   "outputs": [
    {
     "name": "stdout",
     "output_type": "stream",
     "text": [
      "()\n",
      "(1, 2, 3)\n",
      "(1, 2, 3)\n",
      "1\n",
      "a= 1 ,b= 2 ,c= 3\n",
      "交換前 a= 10 ,b= 20\n",
      "交換後 a= 20 ,b= 10\n",
      "(1, 2, 3, 4)\n",
      "((1, 2, 3, 4), 5, 6)\n",
      "3\n",
      "1\n",
      "('z',)\n"
     ]
    }
   ],
   "source": [
    "t1 = ()\n",
    "print(t1)\n",
    "t2 = 1, 2 ,3\n",
    "print(t2)\n",
    "t3 = (1, 2, 3)\n",
    "print(t3)\n",
    "print(t3[0])\n",
    "t3 = (1, 2, 3)\n",
    "a, b, c= t3\n",
    "print('a=', a, ',b=', b, ',c=', c)\n",
    "a = 10\n",
    "b = 20\n",
    "print('交換前','a=', a, ',b=', b)\n",
    "a, b = b, a\n",
    "print('交換後','a=', a, ',b=', b)\n",
    "list1=[1,2,3,4]\n",
    "t4 = tuple(list1)\n",
    "print(t4)\n",
    "t4 = (1,2,3,4)\n",
    "t5 = (t4,5,6)\n",
    "print(t5)\n",
    "print(len(t5))\n",
    "print(t5[0][0])\n",
    "t6 = ('z', )\n",
    "print(t6)"
   ]
  },
  {
   "cell_type": "markdown",
   "id": "ab595ebc",
   "metadata": {},
   "source": [
    "## 3-2 串列 (list)"
   ]
  },
  {
   "cell_type": "markdown",
   "id": "9412bc03",
   "metadata": {},
   "source": [
    "### (3-2-1-list1.py)3-2-1　新增與修改串列"
   ]
  },
  {
   "cell_type": "code",
   "execution_count": 38,
   "id": "4f3f4f19",
   "metadata": {},
   "outputs": [
    {
     "name": "stdout",
     "output_type": "stream",
     "text": [
      "購物清單shoplist為\n",
      "['牛奶', '蛋', '咖啡豆', '西瓜', '鳳梨']\n",
      "顯示shoplist[0]為 牛奶\n",
      "購物清單shoplist的長度為 5\n",
      "執行 shoplist[1] = '皮蛋' 後\n",
      "['牛奶', '皮蛋', '咖啡豆', '西瓜', '鳳梨']\n",
      "執行 index=shoplist.index('咖啡豆') 後\n",
      "index= 2\n",
      "執行 shoplist.append('麵包')後\n",
      "['牛奶', '蛋', '咖啡豆', '西瓜', '鳳梨', '麵包']\n",
      "執行 shoplist.insert(4, '蘋果') 後\n",
      "['牛奶', '蛋', '咖啡豆', '西瓜', '蘋果', '鳳梨']\n",
      "執行 shoplist.remove('蛋') 後\n",
      "['牛奶', '咖啡豆', '西瓜', '鳳梨']\n",
      "執行 del shoplist[0] 後\n",
      "['蛋', '咖啡豆', '西瓜', '鳳梨']\n",
      "執行 shoplist.pop(0) 後\n",
      "['蛋', '咖啡豆', '西瓜', '鳳梨']\n",
      "執行 shoplist.pop() 後\n",
      "['蛋', '咖啡豆', '西瓜']\n",
      "執行 shoplist.pop(-1) 後\n",
      "['蛋', '咖啡豆']\n",
      "執行 shoplist.sort() 後\n",
      "['coffee', 'egg', 'milk', 'watermelon']\n",
      "串列可以包含各種資料型別的元素\n",
      "[1, 2.0, 3, 'Python']\n",
      "milk\n",
      "egg\n",
      "coffee\n",
      "watermelon\n"
     ]
    }
   ],
   "source": [
    "shoplist = ['牛奶', '蛋', '咖啡豆', '西瓜', '鳳梨']\n",
    "print('購物清單shoplist為')\n",
    "print(shoplist)\n",
    "shoplist = ['牛奶', '蛋', '咖啡豆', '西瓜', '鳳梨']\n",
    "print('顯示shoplist[0]為',shoplist[0])\n",
    "shoplist = ['牛奶', '蛋', '咖啡豆', '西瓜', '鳳梨']\n",
    "print('購物清單shoplist的長度為', len(shoplist))\n",
    "shoplist = ['牛奶', '蛋', '咖啡豆', '西瓜', '鳳梨']\n",
    "shoplist[1] = '皮蛋'\n",
    "print(\"執行 shoplist[1] = '皮蛋' 後\")\n",
    "print(shoplist)\n",
    "shoplist = ['牛奶', '蛋', '咖啡豆', '西瓜', '鳳梨']\n",
    "index=shoplist.index('咖啡豆')\n",
    "print(\"執行 index=shoplist.index('咖啡豆') 後\")\n",
    "print('index=', index)\n",
    "shoplist = ['牛奶', '蛋', '咖啡豆', '西瓜', '鳳梨']\n",
    "shoplist.append('麵包')\n",
    "print(\"執行 shoplist.append('麵包')後\")\n",
    "print(shoplist)\n",
    "shoplist = ['牛奶', '蛋', '咖啡豆', '西瓜', '鳳梨']\n",
    "shoplist.insert(4, '蘋果')\n",
    "print(\"執行 shoplist.insert(4, '蘋果') 後\")\n",
    "print(shoplist)\n",
    "shoplist = ['牛奶', '蛋', '咖啡豆', '西瓜', '鳳梨']\n",
    "shoplist.remove('蛋')\n",
    "print(\"執行 shoplist.remove('蛋') 後\")\n",
    "print(shoplist)\n",
    "shoplist = ['牛奶', '蛋', '咖啡豆', '西瓜', '鳳梨']\n",
    "del shoplist[0]\n",
    "print(\"執行 del shoplist[0] 後\")\n",
    "print(shoplist)\n",
    "shoplist = ['牛奶', '蛋', '咖啡豆', '西瓜', '鳳梨']\n",
    "shoplist.pop(0)\n",
    "print(\"執行 shoplist.pop(0) 後\")\n",
    "print(shoplist)\n",
    "shoplist.pop()\n",
    "print(\"執行 shoplist.pop() 後\")\n",
    "print(shoplist)\n",
    "shoplist.pop(-1)\n",
    "print(\"執行 shoplist.pop(-1) 後\")\n",
    "print(shoplist)\n",
    "shoplist = ['milk', 'egg', 'coffee', 'watermelon']\n",
    "shoplist.sort()\n",
    "print(\"執行 shoplist.sort() 後\")\n",
    "print(shoplist)\n",
    "list1 = [1,2.0,3,'Python']\n",
    "print(\"串列可以包含各種資料型別的元素\")\n",
    "print(list1)\n",
    "shoplist = ['milk', 'egg', 'coffee', 'watermelon']\n",
    "for item in shoplist:\n",
    "    print(item)"
   ]
  },
  {
   "cell_type": "markdown",
   "id": "681479af",
   "metadata": {},
   "source": [
    "### (3-2-2-list2.py)3-2-2　串接兩個串列"
   ]
  },
  {
   "cell_type": "code",
   "execution_count": 39,
   "id": "81dedf51",
   "metadata": {},
   "outputs": [
    {
     "name": "stdout",
     "output_type": "stream",
     "text": [
      "['牛奶', '蛋', '咖啡豆', '西瓜', '鳳梨']\n"
     ]
    }
   ],
   "source": [
    "shoplist1 = ['牛奶', '蛋', '咖啡豆']\n",
    "shoplist2 = ['西瓜', '鳳梨']\n",
    "shoplist_all = shoplist1 + shoplist2\n",
    "print(shoplist_all)"
   ]
  },
  {
   "cell_type": "markdown",
   "id": "b3d9d4fb",
   "metadata": {},
   "source": [
    "### (3-2-3-list3.py)3-2-3　產生串列"
   ]
  },
  {
   "cell_type": "code",
   "execution_count": 40,
   "id": "18cb8e3e",
   "metadata": {},
   "outputs": [
    {
     "name": "stdout",
     "output_type": "stream",
     "text": [
      "['p', 'y', 't', 'h', 'o', 'n']\n",
      "['a', 'b', 1, 2]\n",
      "['2016', '1', '1']\n"
     ]
    }
   ],
   "source": [
    "list1 = list('python')\n",
    "print(list1)\n",
    "tuple2 = ('a', 'b', 1, 2)\n",
    "list2 = list(tuple2)\n",
    "print(list2)\n",
    "list3 = \"2016/1/1\".split('/')\n",
    "print(list3)"
   ]
  },
  {
   "cell_type": "markdown",
   "id": "c51f38b3",
   "metadata": {},
   "source": [
    "### (3-2-4-list4.py)3-2-4　使用「[ 開始 : 結束 : 間隔 ]」存取串列"
   ]
  },
  {
   "cell_type": "code",
   "execution_count": 41,
   "id": "c4834c74",
   "metadata": {},
   "outputs": [
    {
     "name": "stdout",
     "output_type": "stream",
     "text": [
      "a[:]為 ['a', 'b', 'c', 'd', 'e', 'f', 'g', 'h', 'i', 'j', 'k']\n",
      "a[:5]為 ['a', 'b', 'c', 'd', 'e']\n",
      "a[5:]為 ['f', 'g', 'h', 'i', 'j', 'k']\n",
      "a[:-5]為 ['a', 'b', 'c', 'd', 'e', 'f']\n",
      "a[-5:]為 ['g', 'h', 'i', 'j', 'k']\n",
      "a[0:4]為 ['a', 'b', 'c', 'd']\n",
      "a[-5:-3]為 ['g', 'h']\n",
      "a[1:10:3]為 ['b', 'e', 'h']\n",
      "a[-1:-4:-1]為 ['k', 'j', 'i']\n",
      "a[::-1]為 ['k', 'j', 'i', 'h', 'g', 'f', 'e', 'd', 'c', 'b', 'a']\n"
     ]
    }
   ],
   "source": [
    "a = list('abcdefghijk')\n",
    "print('a[:]為', a[:])\n",
    "print('a[:5]為', a[:5])\n",
    "print('a[5:]為', a[5:])\n",
    "print('a[:-5]為', a[:-5])\n",
    "print('a[-5:]為', a[-5:])\n",
    "print('a[0:4]為', a[0:4])\n",
    "print('a[-5:-3]為', a[-5:-3])\n",
    "print('a[1:10:3]為', a[1:10:3])\n",
    "print('a[-1:-4:-1]為', a[-1:-4:-1])\n",
    "print('a[::-1]為', a[::-1])"
   ]
  },
  {
   "cell_type": "markdown",
   "id": "5a046ba0",
   "metadata": {},
   "source": [
    "### (3-2-5-list5.py)3-2-5　拷貝串列"
   ]
  },
  {
   "cell_type": "code",
   "execution_count": 42,
   "id": "d1b800ef",
   "metadata": {},
   "outputs": [
    {
     "name": "stdout",
     "output_type": "stream",
     "text": [
      "list1= [1, 2, 3, 4]\n",
      "list2= [1, 2, 3, 4]\n",
      "list1= [1, 2, 19, 4]\n",
      "list2= [1, 2, 19, 4]\n",
      "list1= [1, 2, 18, 4]\n",
      "list2= [1, 2, 18, 4]\n",
      "list1= [1, 2, 3, 4]\n",
      "list3= [1, 2, 19, 4]\n",
      "list1= [1, 2, 3, 4]\n",
      "list4= [1, 2, 19, 4]\n"
     ]
    }
   ],
   "source": [
    "list1 = [1, 2, 3, 4]\n",
    "list2 = list1\n",
    "print('list1=', list1)\n",
    "print('list2=', list2)\n",
    "list1[2]=19\n",
    "print('list1=', list1)\n",
    "print('list2=', list2)\n",
    "list2[2]=18\n",
    "print('list1=', list1)\n",
    "print('list2=', list2)\n",
    "list1 = [1, 2, 3, 4]\n",
    "list3 = list1[:]\n",
    "list3[2] = 19\n",
    "print('list1=', list1)\n",
    "print('list3=', list3)\n",
    "list4 = list1.copy()\n",
    "list4[2] = 19\n",
    "print('list1=', list1)\n",
    "print('list4=', list4)"
   ]
  },
  {
   "cell_type": "markdown",
   "id": "9a484735",
   "metadata": {},
   "source": [
    "## 3-3　字典(dict)"
   ]
  },
  {
   "cell_type": "markdown",
   "id": "8bfb4422",
   "metadata": {},
   "source": [
    "### (3-3-1-dict1.py)3-3-1　新增與修改字典"
   ]
  },
  {
   "cell_type": "code",
   "execution_count": 43,
   "id": "55859268",
   "metadata": {},
   "outputs": [
    {
     "name": "stdout",
     "output_type": "stream",
     "text": [
      "{}\n",
      "{'早安': 'Good Morning', '你好': 'Hello'}\n",
      "「你好」的英文為 Hello\n",
      "「你好」的英文為 Hello\n",
      "「你好嗎」的英文為 None\n",
      "「你好嗎」的英文為 不在字典內\n",
      "{'早安': 'Good Morning', '你好': 'Hi'}\n",
      "{'早安': 'Good Morning', '你好': 'Hi', '學生': 'Student'}\n",
      "{'你好': 'Hello'}\n",
      "{}\n"
     ]
    }
   ],
   "source": [
    "dict1={}\n",
    "print(dict1)\n",
    "lang={'早安':'Good Morning', '你好':'Hello'}\n",
    "print(lang)\n",
    "lang={'早安':'Good Morning', '你好':'Hello'}\n",
    "print('「你好」的英文為',lang['你好'])\n",
    "lang={'早安':'Good Morning', '你好':'Hello'}\n",
    "#print('「你好嗎」的英文為',lang['你好嗎'])\n",
    "lang={'早安':'Good Morning', '你好':'Hello'}\n",
    "print('「你好」的英文為',lang.get('你好'))\n",
    "print('「你好嗎」的英文為',lang.get('你好嗎'))\n",
    "print('「你好嗎」的英文為',lang.get('你好嗎','不在字典內'))\n",
    "lang={'早安':'Good Morning', '你好':'Hello'}\n",
    "lang['你好']='Hi'\n",
    "print(lang)\n",
    "lang['學生']='Student'\n",
    "print(lang)\n",
    "lang={'早安':'Good Morning', '你好':'Hello'}\n",
    "del lang['早安']\n",
    "print(lang)\n",
    "lang={'早安':'Good Morning', '你好':'Hello'}\n",
    "lang.clear()\n",
    "print(lang)"
   ]
  },
  {
   "cell_type": "markdown",
   "id": "1ee021e1",
   "metadata": {},
   "source": [
    "### (3-3-2-dict2.py)3-3-2　將tuple 或串列轉換成字典"
   ]
  },
  {
   "cell_type": "code",
   "execution_count": 44,
   "id": "dee95624",
   "metadata": {},
   "outputs": [
    {
     "name": "stdout",
     "output_type": "stream",
     "text": [
      "{'早安': 'Good Morning', '你好': 'Hello'}\n",
      "{'早安': 'Good Morning', '你好': 'Hello'}\n",
      "{'早安': 'Good Morning', '你好': 'Hello'}\n",
      "{'早安': 'Good Morning', '你好': 'Hello'}\n"
     ]
    }
   ],
   "source": [
    "a=[['早安','Good Morning'],['你好','Hello']]\n",
    "dict1=dict(a)\n",
    "print(dict1)\n",
    "b=[('早安','Good Morning'),('你好','Hello')]\n",
    "dict2=dict(b)\n",
    "print(dict2)\n",
    "c=(['早安','Good Morning'],['你好','Hello'])\n",
    "dict3=dict(c)\n",
    "print(dict3)\n",
    "d=(('早安','Good Morning'),('你好','Hello'))\n",
    "dict4=dict(d)\n",
    "print(dict4)"
   ]
  },
  {
   "cell_type": "markdown",
   "id": "b83b9654",
   "metadata": {},
   "source": [
    "### (3-3-3-dict3.py)3-3-3  使用「函式update」合併兩個字典"
   ]
  },
  {
   "cell_type": "code",
   "execution_count": 45,
   "id": "1d1be129",
   "metadata": {},
   "outputs": [
    {
     "name": "stdout",
     "output_type": "stream",
     "text": [
      "{'你好': 'Hello', '學生': 'Student'}\n",
      "{'早安': 'Good Morning', '你好': 'Hi'}\n"
     ]
    }
   ],
   "source": [
    "lang1={'你好':'Hello'}\n",
    "lang2={'學生':'Student'}\n",
    "lang1.update(lang2)\n",
    "print(lang1)\n",
    "lang1={'早安':'Good Morning','你好':'Hello'}\n",
    "lang2={'你好':'Hi'}\n",
    "lang1.update(lang2)\n",
    "print(lang1)"
   ]
  },
  {
   "cell_type": "markdown",
   "id": "fb584aa0",
   "metadata": {},
   "source": [
    "### (3-3-4-dict4.py)3-3-4  使用「函式copy」複製字典"
   ]
  },
  {
   "cell_type": "code",
   "execution_count": 46,
   "id": "c034ed54",
   "metadata": {},
   "outputs": [
    {
     "name": "stdout",
     "output_type": "stream",
     "text": [
      "lang1為 {'早安': 'Good Morning', '你好': 'Hi'}\n",
      "lang2為 {'早安': 'Good Morning', '你好': 'Hi'}\n",
      "lang1為 {'早安': 'Good Morning', '你好': 'Hello'}\n",
      "lang3為 {'早安': 'Good Morning', '你好': 'Hi'}\n"
     ]
    }
   ],
   "source": [
    "lang1={'早安':'Good Morning','你好':'Hello'}\n",
    "lang2 = lang1\n",
    "lang2['你好']='Hi'\n",
    "print('lang1為', lang1)\n",
    "print('lang2為', lang2)\n",
    "lang1={'早安':'Good Morning','你好':'Hello'}\n",
    "lang3 = lang1.copy()\n",
    "lang3['你好']='Hi'\n",
    "print('lang1為', lang1)\n",
    "print('lang3為', lang3)"
   ]
  },
  {
   "cell_type": "markdown",
   "id": "8a58695b",
   "metadata": {},
   "source": [
    "### (3-3-5-dict5.py)3-3-5  使用「for」讀取字典每個元素"
   ]
  },
  {
   "cell_type": "code",
   "execution_count": 47,
   "id": "eccfdbf4",
   "metadata": {},
   "outputs": [
    {
     "name": "stdout",
     "output_type": "stream",
     "text": [
      "中文為 早安 英文為 Good Morning\n",
      "中文為 你好 英文為 Hello\n",
      "早安 Good Morning\n",
      "你好 Hello\n",
      "Good Morning\n",
      "Hello\n"
     ]
    }
   ],
   "source": [
    "lang={'早安':'Good Morning','你好':'Hello'}\n",
    "for ch, en in lang.items():\n",
    "    print('中文為', ch, '英文為', en)\n",
    "for ch in lang.keys():\n",
    "    print(ch,lang[ch])\n",
    "for en in lang.values():\n",
    "    print(en)"
   ]
  },
  {
   "cell_type": "markdown",
   "id": "490a1555",
   "metadata": {},
   "source": [
    "## 3-4　集合(set)"
   ]
  },
  {
   "cell_type": "markdown",
   "id": "c2aa7e3e",
   "metadata": {},
   "source": [
    "### (3-4-1-set1.py)3-4-1  新增與修改集合"
   ]
  },
  {
   "cell_type": "code",
   "execution_count": 48,
   "id": "3155413f",
   "metadata": {},
   "outputs": [
    {
     "name": "stdout",
     "output_type": "stream",
     "text": [
      "{1, 2, 3, 4}\n",
      "{1, 'b', 2, 'a'}\n",
      "{'banana', 'apple'}\n",
      "{'你好', '早安'}\n",
      "{'e', 'r', 'c', 'a'}\n",
      "{'e', 't', 'g', 'r', 'i'}\n",
      "{'z', 'e', 't', 'g', 'r', 'i'}\n",
      "{'z', 'e', 'g', 'r', 'i'}\n"
     ]
    }
   ],
   "source": [
    "s = {1,2,3,4}\n",
    "print(s)\n",
    "s = set(('a',1,'b',2))\n",
    "print(s)\n",
    "s = set(['apple', 'banana', 'apple'])\n",
    "print(s)\n",
    "s = set({'早安':'Good Morning', '你好':'Hello'})\n",
    "print(s)\n",
    "s = set('racecar')\n",
    "print(s)\n",
    "s = set('tiger')\n",
    "print(s)\n",
    "s.add('z')\n",
    "print(s)\n",
    "s.remove('t')\n",
    "print(s)"
   ]
  },
  {
   "cell_type": "markdown",
   "id": "ca7d5419",
   "metadata": {},
   "source": [
    "### (3-4-2-set2.py)3-4-2  集合的運算"
   ]
  },
  {
   "cell_type": "code",
   "execution_count": 49,
   "id": "2416fd03",
   "metadata": {},
   "outputs": [
    {
     "name": "stdout",
     "output_type": "stream",
     "text": [
      "{'e', 't', 'g', 'r', 'i'}\n",
      "{'b', 'e', 'r', 'a'}\n",
      "{'e', 'a', 't', 'g', 'b', 'r', 'i'}\n",
      "{'e', 'r'}\n",
      "{'g', 't', 'i'}\n",
      "{'a', 't', 'g', 'b', 'i'}\n"
     ]
    }
   ],
   "source": [
    "a = set('tiger')\n",
    "b = set('bear')\n",
    "print(a)\n",
    "print(b)\n",
    "print(a | b)\n",
    "print(a & b)\n",
    "print(a - b)\n",
    "print(a ^ b)"
   ]
  },
  {
   "cell_type": "markdown",
   "id": "9b0440e4",
   "metadata": {},
   "source": [
    "### (3-4-3-set3.py)3-4-3　集合的比較"
   ]
  },
  {
   "cell_type": "code",
   "execution_count": 50,
   "id": "70dca9ca",
   "metadata": {},
   "outputs": [
    {
     "name": "stdout",
     "output_type": "stream",
     "text": [
      "True\n",
      "True\n",
      "False\n",
      "False\n"
     ]
    }
   ],
   "source": [
    "a = set('tiger')\n",
    "b = set('tigers')\n",
    "print(a<=b)\n",
    "a = set('tiger')\n",
    "b = set('tigers')\n",
    "print(a<b)\n",
    "a = set('tiger')\n",
    "b = set('tigers')\n",
    "print(a>=b)\n",
    "a = set('tiger')\n",
    "b = set('tigers')\n",
    "print(a>b)"
   ]
  },
  {
   "cell_type": "markdown",
   "id": "05b86f4e",
   "metadata": {},
   "source": [
    "## 3-5　範例練習"
   ]
  },
  {
   "cell_type": "markdown",
   "id": "81681f5a",
   "metadata": {},
   "source": [
    "### (3-5-1- 待辦事項.py)3-5-1 待辦事項"
   ]
  },
  {
   "cell_type": "code",
   "execution_count": 51,
   "id": "4dd0d489",
   "metadata": {},
   "outputs": [
    {
     "name": "stdout",
     "output_type": "stream",
     "text": [
      "請輸入待辦事項？1\n",
      "請輸入待辦事項？2\n",
      "請輸入待辦事項？3\n",
      "請輸入待辦事項？4\n",
      "請輸入待辦事項？5\n",
      "1 2 ['3', '4', '5']\n",
      "5 ['3', '4']\n"
     ]
    }
   ],
   "source": [
    "待辦事項 = []\n",
    "工作 = input('請輸入待辦事項？')\n",
    "待辦事項.append(工作)\n",
    "工作 = input('請輸入待辦事項？')\n",
    "待辦事項.append(工作)\n",
    "工作 = input('請輸入待辦事項？')\n",
    "待辦事項.append(工作)\n",
    "工作 = input('請輸入待辦事項？')\n",
    "待辦事項.append(工作)\n",
    "工作 = input('請輸入待辦事項？')\n",
    "待辦事項.append(工作)\n",
    "print(待辦事項.pop(0), 待辦事項.pop(0), 待辦事項)\n",
    "print(待辦事項.pop(), 待辦事項)"
   ]
  },
  {
   "cell_type": "markdown",
   "id": "b479209d",
   "metadata": {},
   "source": [
    "### (3-5-2- 製作英翻中字典.py)  3-5-2- 製作英翻中字典"
   ]
  },
  {
   "cell_type": "code",
   "execution_count": 52,
   "id": "5088b196",
   "metadata": {},
   "outputs": [
    {
     "name": "stdout",
     "output_type": "stream",
     "text": [
      "dict_keys(['dog', 'fish', 'cat', 'pig'])\n",
      "{'dog': '狗', 'fish': '魚', 'cat': '貓', 'pig': '豬'}\n",
      "請輸入一個英文單字？fish\n",
      "魚\n"
     ]
    }
   ],
   "source": [
    "字典 = {'dog':'狗', 'fish':'魚', 'cat':'貓', 'pig':'豬'}\n",
    "print(字典.keys())\n",
    "print(字典)\n",
    "英文 = input('請輸入一個英文單字？')\n",
    "print(字典.get(英文,'字典找不到該單字'))\n"
   ]
  },
  {
   "cell_type": "markdown",
   "id": "68bbc7e8",
   "metadata": {},
   "source": [
    "### (3-5-3-找出一首詩的所有字)  3-5-3-找出一首詩的所有字"
   ]
  },
  {
   "cell_type": "code",
   "execution_count": 53,
   "id": "e72d006e",
   "metadata": {},
   "outputs": [
    {
     "name": "stdout",
     "output_type": "stream",
     "text": [
      "{'鳥', '多', '不', '知', '來', '春', '處', '覺', '眠', '風', '雨', '聲', '夜', '曉', '花', '落', '聞', '啼', '少'}\n"
     ]
    }
   ],
   "source": [
    "詩 = '春眠不覺曉，處處聞啼鳥。夜來風雨聲，花落知多少。'\n",
    "字 = set(詩)\n",
    "字.remove('，')\n",
    "字.remove('。')\n",
    "print(字)"
   ]
  },
  {
   "cell_type": "markdown",
   "id": "44198254",
   "metadata": {},
   "source": [
    "### (3-5-4-複雜的結構.py)  3-5-4-複雜的結構"
   ]
  },
  {
   "cell_type": "code",
   "execution_count": 54,
   "id": "29a24dd5",
   "metadata": {},
   "outputs": [
    {
     "name": "stdout",
     "output_type": "stream",
     "text": [
      "['January', 'February', 'March', 'April', 'May', 'June', 'July', 'August', 'September', 'October', 'November', 'December']\n",
      "August\n"
     ]
    }
   ],
   "source": [
    "星期 = ['Sunday', 'Monday', 'Tuesday', 'Wednesday', 'Thursday', 'Friday', 'Saturday']\n",
    "月份 = ['January', 'February', 'March', 'April', 'May', 'June', \\\n",
    "      'July', 'August', 'September', 'October', 'November', 'December']\n",
    "dic = {'week':星期, 'month':月份}\n",
    "print(dic['month'])\n",
    "print(dic['month'][7])"
   ]
  }
 ],
 "metadata": {
  "kernelspec": {
   "display_name": "Python 3 (ipykernel)",
   "language": "python",
   "name": "python3"
  },
  "language_info": {
   "codemirror_mode": {
    "name": "ipython",
    "version": 3
   },
   "file_extension": ".py",
   "mimetype": "text/x-python",
   "name": "python",
   "nbconvert_exporter": "python",
   "pygments_lexer": "ipython3",
   "version": "3.9.7"
  }
 },
 "nbformat": 4,
 "nbformat_minor": 5
}
