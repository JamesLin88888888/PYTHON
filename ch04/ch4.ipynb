{
 "cells": [
  {
   "cell_type": "markdown",
   "id": "07b68917",
   "metadata": {},
   "source": [
    "# Ch4 選擇結構"
   ]
  },
  {
   "cell_type": "markdown",
   "id": "65eb6841",
   "metadata": {},
   "source": [
    "## 4-1　單向選擇結構\n",
    "### (4-1-1-判斷及格.py)  範例4-1-1-判斷及格"
   ]
  },
  {
   "cell_type": "code",
   "execution_count": 2,
   "id": "92a5400c",
   "metadata": {},
   "outputs": [
    {
     "name": "stdout",
     "output_type": "stream",
     "text": [
      "請輸入一個成績？59\n"
     ]
    }
   ],
   "source": [
    "score = int(input('請輸入一個成績？'))\n",
    "if score >= 60:\n",
    "    print('很好，請繼續保持下去')"
   ]
  },
  {
   "cell_type": "markdown",
   "id": "0c44c8dd",
   "metadata": {},
   "source": [
    "## 4-2　雙向選擇結構\n",
    "### (4-2-1 滿2000 打九折.py)   範例4-2-1 滿2000 打九折"
   ]
  },
  {
   "cell_type": "code",
   "execution_count": 3,
   "id": "791d6d2b",
   "metadata": {},
   "outputs": [
    {
     "name": "stdout",
     "output_type": "stream",
     "text": [
      "請輸入購買金額？2000\n",
      "1800.0\n"
     ]
    }
   ],
   "source": [
    "cost = int(input('請輸入購買金額？'))\n",
    "if cost >= 2000:\n",
    "    print(cost * 0.9)\n",
    "else:\n",
    "    print(cost)"
   ]
  },
  {
   "cell_type": "markdown",
   "id": "958a00b2",
   "metadata": {},
   "source": [
    "### (4-2-2-判斷奇偶數.py.py)   範例4-2-2  判斷奇偶數"
   ]
  },
  {
   "cell_type": "code",
   "execution_count": 4,
   "id": "554ae383",
   "metadata": {},
   "outputs": [
    {
     "name": "stdout",
     "output_type": "stream",
     "text": [
      "請輸入一個整數？23\n",
      "23 為奇數\n"
     ]
    }
   ],
   "source": [
    "num = int(input('請輸入一個整數？'))\n",
    "if num%2:\n",
    "    print(num, '為奇數')\n",
    "else:\n",
    "    print(num, '為偶數')"
   ]
  },
  {
   "cell_type": "markdown",
   "id": "109d8ca6",
   "metadata": {},
   "source": [
    "### (4-2-3-三角形判斷.py.py)   範例4-2-3 三角形判斷"
   ]
  },
  {
   "cell_type": "code",
   "execution_count": 5,
   "id": "d36de64a",
   "metadata": {},
   "outputs": [
    {
     "name": "stdout",
     "output_type": "stream",
     "text": [
      "請輸入三角形邊長a長度為？1\n",
      "請輸入三角形邊長b長度為？2\n",
      "請輸入三角形邊長c長度為？3\n",
      "無法構成三角形\n"
     ]
    }
   ],
   "source": [
    "a = int(input('請輸入三角形邊長a長度為？'))\n",
    "b = int(input('請輸入三角形邊長b長度為？'))\n",
    "c = int(input('請輸入三角形邊長c長度為？'))\n",
    "if (a<b+c)and(b<a+c)and(c<a+b):\n",
    "    print('可構成三角形')\n",
    "else:\n",
    "    print('無法構成三角形')"
   ]
  },
  {
   "cell_type": "markdown",
   "id": "d96082cf",
   "metadata": {},
   "source": [
    "## 4-3　多向選擇結構\n",
    "### (4-3-1-分數與評語.py) 範例4-3-1  分數與評語"
   ]
  },
  {
   "cell_type": "code",
   "execution_count": 9,
   "id": "ad9d9c3f",
   "metadata": {},
   "outputs": [
    {
     "name": "stdout",
     "output_type": "stream",
     "text": [
      "請輸入一個成績？75\n",
      "不錯喔\n"
     ]
    }
   ],
   "source": [
    "score = int(input('請輸入一個成績？'))\n",
    "if score >= 80:\n",
    "    print('非常好')\n",
    "elif score >= 60:\n",
    "    print('不錯喔')\n",
    "else:\n",
    "    print('要加油')"
   ]
  },
  {
   "cell_type": "markdown",
   "id": "8ef58f68",
   "metadata": {},
   "source": [
    "### (4-3-2-郵資計算.py) 範例4-3-2  郵資計算"
   ]
  },
  {
   "cell_type": "code",
   "execution_count": 8,
   "id": "0e533f28",
   "metadata": {},
   "outputs": [
    {
     "name": "stdout",
     "output_type": "stream",
     "text": [
      "請輸入物品重量？17\n",
      "所需郵資為110元\n"
     ]
    }
   ],
   "source": [
    "w = float(input('請輸入物品重量？'))\n",
    "if w <= 5:\n",
    "    print('所需郵資為50元')\n",
    "elif w <= 10:\n",
    "    print('所需郵資為70元')\n",
    "elif w <= 15:\n",
    "    print('所需郵資為90元')\n",
    "elif w <= 20:\n",
    "    print('所需郵資為110元')\n",
    "else:\n",
    "    print('超過20公斤無法寄送')"
   ]
  },
  {
   "cell_type": "markdown",
   "id": "1db024fd",
   "metadata": {},
   "source": [
    "### (4-3-3-BMI計算.py) 範例4-3-3  BMI計算"
   ]
  },
  {
   "cell_type": "code",
   "execution_count": 7,
   "id": "ecaffadd",
   "metadata": {},
   "outputs": [
    {
     "name": "stdout",
     "output_type": "stream",
     "text": [
      "請輸入體重(KG)？80\n",
      "請輸入身高(M)？1.68\n",
      "BMI為 28.344671201814062\n",
      "體重肥胖\n"
     ]
    }
   ],
   "source": [
    "w = float(input('請輸入體重(KG)？'))\n",
    "h = float(input('請輸入身高(M)？'))\n",
    "bmi = w/(h*h)\n",
    "print('BMI為', bmi)\n",
    "if bmi < 18:\n",
    "    print('體重過輕')\n",
    "elif bmi < 24:\n",
    "    print('體重正常')\n",
    "elif bmi < 27:\n",
    "    print('體重過重')\n",
    "else:\n",
    "    print('體重肥胖')"
   ]
  },
  {
   "cell_type": "markdown",
   "id": "b4302f71",
   "metadata": {},
   "source": [
    "## 4-4　條件判斷與運算子「in」\n",
    "### (4-4-條件判斷與運算子「in」.py) "
   ]
  },
  {
   "cell_type": "code",
   "execution_count": 6,
   "id": "7fb3468a",
   "metadata": {},
   "outputs": [
    {
     "name": "stdout",
     "output_type": "stream",
     "text": [
      "數字1在tuple a中\n",
      "q在串列a中\n",
      "謝謝的英文為 Thank You\n",
      "t在集合a內\n"
     ]
    }
   ],
   "source": [
    "a = (1,2,3,4)\n",
    "if 1 in a:\n",
    "    print('數字1在tuple a中')\n",
    "else:\n",
    "    print('數字1不在tuple a中')\n",
    "a = list('abcdefghijklmnopqrstuvwxyz')\n",
    "if 'q' in a:\n",
    "    print('q在串列a中')\n",
    "else:\n",
    "    print('q不在串列a中')\n",
    "lang1={'早安':'Good Morning','謝謝':'Thank You'}\n",
    "if '謝謝' in lang1:\n",
    "    print('謝謝的英文為', lang1['謝謝'])\n",
    "else:\n",
    "    print('查不到謝謝的英文')\n",
    "a = set('tiger')\n",
    "if 't' in a:\n",
    "    print('t在集合a內')\n",
    "else:\n",
    "    print('t不在集合a內')"
   ]
  }
 ],
 "metadata": {
  "kernelspec": {
   "display_name": "Python 3 (ipykernel)",
   "language": "python",
   "name": "python3"
  },
  "language_info": {
   "codemirror_mode": {
    "name": "ipython",
    "version": 3
   },
   "file_extension": ".py",
   "mimetype": "text/x-python",
   "name": "python",
   "nbconvert_exporter": "python",
   "pygments_lexer": "ipython3",
   "version": "3.9.7"
  }
 },
 "nbformat": 4,
 "nbformat_minor": 5
}
